{
 "cells": [
  {
   "cell_type": "code",
   "execution_count": 1,
   "metadata": {},
   "outputs": [
    {
     "name": "stderr",
     "output_type": "stream",
     "text": [
      "/anaconda3/lib/python3.6/site-packages/h5py/__init__.py:36: FutureWarning: Conversion of the second argument of issubdtype from `float` to `np.floating` is deprecated. In future, it will be treated as `np.float64 == np.dtype(float).type`.\n",
      "  from ._conv import register_converters as _register_converters\n",
      "Using TensorFlow backend.\n"
     ]
    }
   ],
   "source": [
    "import numpy as np\n",
    "\n",
    "import keras\n",
    "from keras.models import Sequential\n",
    "from keras.layers import Dense, Dropout, Flatten\n",
    "from keras.layers import Conv2D, MaxPooling2D\n",
    "from keras.optimizers import SGD\n",
    "from keras.models import model_from_json\n",
    "\n",
    "import tkinter\n",
    "import cv2\n",
    "import os \n",
    "\n"
   ]
  },
  {
   "cell_type": "code",
   "execution_count": 2,
   "metadata": {},
   "outputs": [],
   "source": [
    "#making a sequential model\n",
    "model = Sequential()\n",
    "\n",
    "#adding layers to the model\n",
    "\n",
    "\n",
    "model.add(Conv2D(8, (3, 3), activation='relu', input_shape=(100, 100, 1)))\n",
    "model.add(MaxPooling2D(pool_size=(2, 2)))\n",
    "model.add(Conv2D(16, (3, 3), activation='relu'))\n",
    "model.add(MaxPooling2D(pool_size=(2, 2)))\n",
    "model.add(Conv2D(32, (3, 3), activation='relu'))\n",
    "model.add(MaxPooling2D(pool_size=(2, 2)))\n",
    "\n",
    "model.add(Flatten())\n",
    "model.add(Dense(256, activation='relu'))\n",
    "model.add(Dense(10, activation='softmax'))\n",
    "\n",
    "sgd = SGD(lr=0.01, decay=1e-6, momentum=0.9, nesterov=True)\n",
    "model.compile(loss='categorical_crossentropy', optimizer=sgd)\n",
    "\n"
   ]
  },
  {
   "cell_type": "code",
   "execution_count": 3,
   "metadata": {},
   "outputs": [],
   "source": [
    "#function to load images\n",
    "\n",
    "def load_images_from_folder(folder):\n",
    "    images = []\n",
    "    for filename in os.listdir(folder):\n",
    "        img = cv2.imread(os.path.join(folder,filename))\n",
    "        if img is not None:\n",
    "            images.append(list(img))\n",
    "    return images\n",
    "\n"
   ]
  },
  {
   "cell_type": "code",
   "execution_count": 4,
   "metadata": {},
   "outputs": [],
   "source": [
    "class Fruit:\n",
    "    def __init__(self,data,label):\n",
    "        self.data = data\n",
    "        self.label = label\n",
    "        self.inputs = None\n",
    "        self.labels = None \n",
    "        \n",
    "    def addInputs(self,inputs):\n",
    "        imgs = len(inputs[0])\n",
    "        self.inputs = np.array(inputs[0]).reshape(imgs,100,100,1)\n",
    "        self.labels = np.array(inputs[1]).reshape(imgs,10) \n",
    "     \n",
    "\n"
   ]
  },
  {
   "cell_type": "code",
   "execution_count": 5,
   "metadata": {},
   "outputs": [],
   "source": [
    "#convert to grey scaled\n",
    "def getinputs(ar):\n",
    "   a = ar.data\n",
    "   l = ar.label\n",
    "   array = []\n",
    "   labels = []\n",
    "   for img in a:\n",
    "       subarray = []\n",
    "       label = [0,0,0,0,0,0,0,0,0,0]\n",
    "       label[l] = 1 \n",
    "       for row in img:\n",
    "           for block in row:\n",
    "              r = block[0]\n",
    "              g = block[1]\n",
    "              b = block[2]\n",
    "              subarray.append((r * 0.3 + g * 0.59 + b * 0.11)/255)\n",
    "       array.append(subarray)\n",
    "       labels.append(label)\n",
    "   return [array,labels]\n",
    "\n"
   ]
  },
  {
   "cell_type": "code",
   "execution_count": 6,
   "metadata": {},
   "outputs": [],
   "source": [
    "def makeone(a):\n",
    "        array = []\n",
    "        for i in a:\n",
    "            array.append(list(i))\n",
    "        return np.array(array)\n",
    "\n",
    "\n",
    "def concat(array):\n",
    "    result  = []\n",
    "    labels = []\n",
    "    for a in array:\n",
    "        for i  in a.inputs:\n",
    "            result.append(i.copy())\n",
    "        for i in a.labels:\n",
    "            labels.append(i.copy())\n",
    "    return [makeone(result),makeone(labels)]\n",
    "\n",
    "\n",
    " "
   ]
  },
  {
   "cell_type": "code",
   "execution_count": 26,
   "metadata": {},
   "outputs": [],
   "source": [
    "def maxnum(array):\n",
    "    m = 0\n",
    "    for i in array:\n",
    "        if i > m:\n",
    "            m = i\n",
    "    return list(array).index(m)\n",
    "\n"
   ]
  },
  {
   "cell_type": "code",
   "execution_count": 9,
   "metadata": {},
   "outputs": [
    {
     "name": "stdout",
     "output_type": "stream",
     "text": [
      "loading Data (---------------------)\n",
      "loading Data (=>-------------------)\n",
      "loading Data (==>------------------)\n",
      "loading Data (===>-----------------)\n",
      "loading Data (====>----------------)\n",
      "loading Data (======>--------------)\n",
      "loading Data (=======>-------------)\n",
      "loading Data (========>------------)\n",
      "loading Data (==========>----------)\n",
      "loading Data (=============>------)\n",
      "loading Data (==================>)\n"
     ]
    }
   ],
   "source": [
    " ## loading images\n",
    "print('loading Data (---------------------)')\n",
    "apple_braeburn = Fruit(load_images_from_folder('/Users/eeshannarula/Documents/fruitsDetction/Training/Apple Braeburn'),0)\n",
    "apple_braeburn.addInputs(getinputs(apple_braeburn))\n",
    "print('loading Data (=>-------------------)')\n",
    "apple_golden = Fruit(load_images_from_folder('/Users/eeshannarula/Documents/fruitsDetction/Training/Apple Golden 1'),1)\n",
    "apple_golden.addInputs(getinputs(apple_golden))\n",
    "print('loading Data (==>------------------)')\n",
    "apple_red = Fruit(load_images_from_folder('/Users/eeshannarula/Documents/fruitsDetction/Training/Apple Red 1'),2)\n",
    "apple_red.addInputs(getinputs(apple_red))\n",
    "print('loading Data (===>-----------------)')\n",
    "apricot = Fruit(load_images_from_folder('/Users/eeshannarula/Documents/fruitsDetction/Training/Apricot'),3)\n",
    "apricot.addInputs(getinputs(apricot))\n",
    "print('loading Data (====>----------------)')\n",
    "banana = Fruit(load_images_from_folder('/Users/eeshannarula/Documents/fruitsDetction/Training/Banana'),4)\n",
    "banana.addInputs(getinputs(banana))\n",
    "print('loading Data (======>--------------)')\n",
    "cherry = Fruit(load_images_from_folder('/Users/eeshannarula/Documents/fruitsDetction/Training/Cherry 1'),5)\n",
    "cherry.addInputs(getinputs(cherry))\n",
    "print('loading Data (=======>-------------)')\n",
    "dates  = Fruit(load_images_from_folder('/Users/eeshannarula/Documents/fruitsDetction/Training/Dates'),6)\n",
    "dates.addInputs(getinputs(dates))\n",
    "print('loading Data (========>------------)')\n",
    "lemon = Fruit(load_images_from_folder('/Users/eeshannarula/Documents/fruitsDetction/Training/Lemon'),7)\n",
    "lemon.addInputs(getinputs(lemon))\n",
    "print('loading Data (==========>----------)')\n",
    "mango = Fruit(load_images_from_folder('/Users/eeshannarula/Documents/fruitsDetction/Training/Mango'),8)\n",
    "mango.addInputs(getinputs(mango))\n",
    "print('loading Data (=============>------)')\n",
    "pear = Fruit(load_images_from_folder('/Users/eeshannarula/Documents/fruitsDetction/Training/Pear'),9)\n",
    "pear.addInputs(getinputs(pear))\n",
    "print('loading Data (==================>)')\n",
    "\n"
   ]
  },
  {
   "cell_type": "code",
   "execution_count": 10,
   "metadata": {},
   "outputs": [],
   "source": [
    "friuts = [apple_braeburn,apple_golden,apple_red,apricot,banana,cherry,dates,lemon,mango,pear]"
   ]
  },
  {
   "cell_type": "code",
   "execution_count": 11,
   "metadata": {},
   "outputs": [],
   "source": [
    "x_train,y_train = concat(friuts)"
   ]
  },
  {
   "cell_type": "code",
   "execution_count": 12,
   "metadata": {},
   "outputs": [
    {
     "name": "stdout",
     "output_type": "stream",
     "text": [
      "Epoch 1/10\n",
      "4914/4914 [==============================] - 14s 3ms/step - loss: 1.4353\n",
      "Epoch 2/10\n",
      "4914/4914 [==============================] - 13s 3ms/step - loss: 0.1948\n",
      "Epoch 3/10\n",
      "4914/4914 [==============================] - 13s 3ms/step - loss: 0.0427\n",
      "Epoch 4/10\n",
      "4914/4914 [==============================] - 13s 3ms/step - loss: 0.4384\n",
      "Epoch 5/10\n",
      "4914/4914 [==============================] - 13s 3ms/step - loss: 0.0978\n",
      "Epoch 6/10\n",
      "4914/4914 [==============================] - 13s 3ms/step - loss: 0.0095\n",
      "Epoch 7/10\n",
      "4914/4914 [==============================] - 13s 3ms/step - loss: 0.0036\n",
      "Epoch 8/10\n",
      "4914/4914 [==============================] - 13s 3ms/step - loss: 0.0025\n",
      "Epoch 9/10\n",
      "4914/4914 [==============================] - 13s 3ms/step - loss: 0.0010\n",
      "Epoch 10/10\n",
      "4914/4914 [==============================] - 13s 3ms/step - loss: 7.4761e-04\n"
     ]
    },
    {
     "data": {
      "text/plain": [
       "<keras.callbacks.History at 0xb3b4567b8>"
      ]
     },
     "execution_count": 12,
     "metadata": {},
     "output_type": "execute_result"
    }
   ],
   "source": [
    "model.fit(x_train, y_train, batch_size=100, epochs=10,shuffle=True) "
   ]
  },
  {
   "cell_type": "code",
   "execution_count": 24,
   "metadata": {},
   "outputs": [
    {
     "name": "stdout",
     "output_type": "stream",
     "text": [
      "Saved model to disk\n"
     ]
    }
   ],
   "source": [
    "# serialize model to JSON\n",
    "model_json = model.to_json()\n",
    "with open(\"model.json\", \"w\") as json_file:\n",
    "    json_file.write(model_json)\n",
    "# serialize weights to HDF5\n",
    "model.save_weights(\"model.h5\")\n",
    "print(\"Saved model to disk\")\n",
    " "
   ]
  },
  {
   "cell_type": "code",
   "execution_count": 33,
   "metadata": {},
   "outputs": [],
   "source": [
    "def calcTotalLen():\n",
    "    sumnum = 0\n",
    "    for i  in friuts:\n",
    "        sumnum += len(i.inputs)\n",
    "    return sumnum\n",
    "\n",
    "\n",
    "\n",
    "\n",
    "def test():\n",
    "        score = 0\n",
    "        total = calcTotalLen()\n",
    "        imgs = x_train.copy()\n",
    "        predictionsarray = model.predict(imgs)\n",
    "        predictions = []\n",
    "        correct = []\n",
    "        for i in predictionsarray:\n",
    "            predictions.append(maxnum(i))\n",
    "        for i in y_train:\n",
    "            correct.append(maxnum(i))\n",
    "\n",
    "        for i in range(total):\n",
    "            c = correct[i]\n",
    "            p = predictions[i]\n",
    "            if c == p :\n",
    "                score+=1\n",
    "\n",
    "        return (score/total) * 100        \n",
    "        "
   ]
  },
  {
   "cell_type": "code",
   "execution_count": 34,
   "metadata": {},
   "outputs": [
    {
     "data": {
      "text/plain": [
       "100.0"
      ]
     },
     "execution_count": 34,
     "metadata": {},
     "output_type": "execute_result"
    }
   ],
   "source": [
    "test()"
   ]
  },
  {
   "cell_type": "code",
   "execution_count": null,
   "metadata": {},
   "outputs": [],
   "source": [
    " "
   ]
  }
 ],
 "metadata": {
  "kernelspec": {
   "display_name": "Python 3",
   "language": "python",
   "name": "python3"
  },
  "language_info": {
   "codemirror_mode": {
    "name": "ipython",
    "version": 3
   },
   "file_extension": ".py",
   "mimetype": "text/x-python",
   "name": "python",
   "nbconvert_exporter": "python",
   "pygments_lexer": "ipython3",
   "version": "3.6.5"
  }
 },
 "nbformat": 4,
 "nbformat_minor": 2
}
